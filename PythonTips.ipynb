{
  "nbformat": 4,
  "nbformat_minor": 0,
  "metadata": {
    "colab": {
      "provenance": [],
      "collapsed_sections": []
    },
    "kernelspec": {
      "name": "python3",
      "display_name": "Python 3"
    },
    "language_info": {
      "name": "python"
    }
  },
  "cells": [
    {
      "cell_type": "markdown",
      "source": [
        "#### Email Sender"
      ],
      "metadata": {
        "id": "Fp9DR8PooIgM"
      }
    },
    {
      "cell_type": "code",
      "execution_count": 1,
      "metadata": {
        "id": "bjlZnql7n92Y"
      },
      "outputs": [],
      "source": [
        "import email, ssl, smtplib\n",
        "\n",
        "sender = 'sender@gmail.com'\n",
        "password = 'sender_password'\n",
        "reciever = 'reciever@gmail.com'\n",
        "\n",
        "subject = 'ANNONCEMENT'\n",
        "body = '''I am a hungry boy finally!!'''\n",
        "\n",
        "message = email.message.EmailMessage()\n",
        "message['To'] = reciever\n",
        "message['From'] = sender\n",
        "message['Subject'] = subject\n",
        "message['Date'] = email.utils.formatdate(localtime=True)\n",
        "message['Message-ID'] = email.utils.make_msgid()\n",
        "message.set_content(body)\n",
        "\n",
        "context = ssl.create_default_context()\n",
        "with smtplib.SMTP_SSL('smtp.gmail.com', 465, context=context) as smtp:\n",
        "  smtp.login(sender, password)\n",
        "  smtp.sendmail(sender, reciever, message.as_string())"
      ]
    }
  ]
}