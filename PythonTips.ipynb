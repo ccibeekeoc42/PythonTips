{
  "nbformat": 4,
  "nbformat_minor": 0,
  "metadata": {
    "colab": {
      "provenance": [],
      "collapsed_sections": []
    },
    "kernelspec": {
      "name": "python3",
      "display_name": "Python 3"
    },
    "language_info": {
      "name": "python"
    }
  },
  "cells": [
    {
      "cell_type": "markdown",
      "source": [
        "#### Binary Search"
      ],
      "metadata": {
        "id": "oH6x4fax0JkR"
      }
    },
    {
      "cell_type": "code",
      "source": [
        "def search(nums, target):\n",
        "  l, mid, r = 0, 0, len(nums)\n",
        "  step = 0\n",
        "  while (l <= r):\n",
        "    print(f\"Step{step}: {nums[l:r+1]}\")\n",
        "    step += 1\n",
        "    mid = (l+r) // 2\n",
        "    if target == nums[mid]:\n",
        "      return mid\n",
        "    elif target < nums[mid]:\n",
        "      r = mid - 1\n",
        "    else:\n",
        "      l = mid + 1\n",
        "  return f'{target} not found'\n",
        "\n",
        "# Driver Code\n",
        "nums, target = [1,2,3,4,5,6,7,8,9], 0\n",
        "search(nums, target)"
      ],
      "metadata": {
        "colab": {
          "base_uri": "https://localhost:8080/",
          "height": 88
        },
        "id": "gdf_schE0MXk",
        "outputId": "a0508c19-9625-4af5-8e03-00ed99e84ca9"
      },
      "execution_count": 4,
      "outputs": [
        {
          "output_type": "stream",
          "name": "stdout",
          "text": [
            "Step0: [1, 2, 3, 4, 5, 6, 7, 8, 9]\n",
            "Step1: [1, 2, 3, 4]\n",
            "Step2: [1]\n"
          ]
        },
        {
          "output_type": "execute_result",
          "data": {
            "text/plain": [
              "'0 not found'"
            ],
            "application/vnd.google.colaboratory.intrinsic+json": {
              "type": "string"
            }
          },
          "metadata": {},
          "execution_count": 4
        }
      ]
    },
    {
      "cell_type": "markdown",
      "source": [
        "#### Email Sender"
      ],
      "metadata": {
        "id": "Fp9DR8PooIgM"
      }
    },
    {
      "cell_type": "code",
      "execution_count": 6,
      "metadata": {
        "id": "bjlZnql7n92Y"
      },
      "outputs": [],
      "source": [
        "def sendEmail(sender, password, reciever, subject, message):\n",
        "  '''Sends emails using the smtp protocol'''\n",
        "  import email, ssl, smtplib\n",
        "  message = email.message.EmailMessage()\n",
        "  message['To'] = reciever\n",
        "  message['From'] = sender\n",
        "  message['Subject'] = subject\n",
        "  message['Date'] = email.utils.formatdate(localtime=True)\n",
        "  message['Message-ID'] = email.utils.make_msgid()\n",
        "  message.set_content(body)\n",
        "\n",
        "  context = ssl.create_default_context()\n",
        "  with smtplib.SMTP_SSL('smtp.gmail.com', 465, context=context) as smtp:\n",
        "    smtp.login(sender, password)\n",
        "    smtp.sendmail(sender, reciever, message.as_string())\n",
        "\n",
        "# Driver Code\n",
        "sender, password = 'sender@gmail.com', 'sender_password'\n",
        "reciever = 'reciever@gmail.com'\n",
        "\n",
        "subject = 'ANNONCEMENT'\n",
        "body = '''\"With great power, comes great responsibility.\" - Uncle Ben.'''\n",
        "sendEmail(sender, password, reciever, subject, body)"
      ]
    },
    {
      "cell_type": "markdown",
      "source": [
        "#### QR Code Generator (texts & URLs)"
      ],
      "metadata": {
        "id": "39saBdWi7_RJ"
      }
    },
    {
      "cell_type": "code",
      "source": [
        "!pip install qrcode image"
      ],
      "metadata": {
        "id": "ck4g5zPT8L4F"
      },
      "execution_count": null,
      "outputs": []
    },
    {
      "cell_type": "code",
      "source": [
        "import qrcode\n",
        "from IPython.display import Image\n",
        "\n",
        "def generateQRcode(text):\n",
        "  '''returns image of a QR code'''\n",
        "  qr = qrcode.QRCode(\n",
        "      version=1, \n",
        "      error_correction=qrcode.constants.ERROR_CORRECT_L,\n",
        "      box_size=6, border=1,\n",
        "  )\n",
        "  qr.add_data(text)\n",
        "  qr.make(fit=True)\n",
        "  img = qr.make_image(fill_color=\"black\", back_color=\"white\")\n",
        "  img.save('test.png')\n",
        "\n",
        "# Driver Code\n",
        "generateQRcode('https://www.youtube.com/watch?v=dQw4w9WgXcQ')\n",
        "Image(filename='test.png') "
      ],
      "metadata": {
        "colab": {
          "base_uri": "https://localhost:8080/",
          "height": 203
        },
        "id": "e15VNZ1n8zAM",
        "outputId": "f21e2b0f-4a31-4ad4-ecf4-2c8bce4b7526"
      },
      "execution_count": 13,
      "outputs": [
        {
          "output_type": "execute_result",
          "data": {
            "image/png": "[encoded data removed]",
            "text/plain": [
              "<IPython.core.display.Image object>"
            ]
          },
          "metadata": {},
          "execution_count": 13
        }
      ]
    }
  ]
}