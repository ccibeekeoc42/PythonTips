{
  "nbformat": 4,
  "nbformat_minor": 0,
  "metadata": {
    "colab": {
      "provenance": [],
      "collapsed_sections": []
    },
    "kernelspec": {
      "name": "python3",
      "display_name": "Python 3"
    },
    "language_info": {
      "name": "python"
    }
  },
  "cells": [
    {
      "cell_type": "markdown",
      "source": [
        "#### Binary Search"
      ],
      "metadata": {
        "id": "oH6x4fax0JkR"
      }
    },
    {
      "cell_type": "code",
      "source": [
        "def search(nums, target):\n",
        "  l, mid, r = 0, 0, len(nums)\n",
        "  step = 0\n",
        "  while (l <= r):\n",
        "    print(f\"Step{step}: {nums[l:r+1]}\")\n",
        "    step += 1\n",
        "    mid = (l+r) // 2\n",
        "    if target == nums[mid]:\n",
        "      return mid\n",
        "    elif target < nums[mid]:\n",
        "      r = mid - 1\n",
        "    else:\n",
        "      l = mid + 1\n",
        "  return f'{target} not found'\n",
        "\n",
        "# Driver Code\n",
        "nums, target = [1,2,3,4,5,6,7,8,9], 0\n",
        "search(nums, target)"
      ],
      "metadata": {
        "colab": {
          "base_uri": "https://localhost:8080/",
          "height": 88
        },
        "id": "gdf_schE0MXk",
        "outputId": "a0508c19-9625-4af5-8e03-00ed99e84ca9"
      },
      "execution_count": 4,
      "outputs": [
        {
          "output_type": "stream",
          "name": "stdout",
          "text": [
            "Step0: [1, 2, 3, 4, 5, 6, 7, 8, 9]\n",
            "Step1: [1, 2, 3, 4]\n",
            "Step2: [1]\n"
          ]
        },
        {
          "output_type": "execute_result",
          "data": {
            "text/plain": [
              "'0 not found'"
            ],
            "application/vnd.google.colaboratory.intrinsic+json": {
              "type": "string"
            }
          },
          "metadata": {},
          "execution_count": 4
        }
      ]
    },
    {
      "cell_type": "markdown",
      "source": [
        "#### Email Sender"
      ],
      "metadata": {
        "id": "Fp9DR8PooIgM"
      }
    },
    {
      "cell_type": "code",
      "execution_count": 6,
      "metadata": {
        "id": "bjlZnql7n92Y"
      },
      "outputs": [],
      "source": [
        "def sendEmail(sender, password, reciever, subject, message):\n",
        "  '''Sends emails using the smtp protocol'''\n",
        "  import email, ssl, smtplib\n",
        "  message = email.message.EmailMessage()\n",
        "  message['To'] = reciever\n",
        "  message['From'] = sender\n",
        "  message['Subject'] = subject\n",
        "  message['Date'] = email.utils.formatdate(localtime=True)\n",
        "  message['Message-ID'] = email.utils.make_msgid()\n",
        "  message.set_content(body)\n",
        "\n",
        "  context = ssl.create_default_context()\n",
        "  with smtplib.SMTP_SSL('smtp.gmail.com', 465, context=context) as smtp:\n",
        "    smtp.login(sender, password)\n",
        "    smtp.sendmail(sender, reciever, message.as_string())\n",
        "\n",
        "# Driver Code\n",
        "sender, password = 'sender@gmail.com', 'sender_password'\n",
        "reciever = 'reciever@gmail.com'\n",
        "\n",
        "subject = 'ANNONCEMENT'\n",
        "body = '''\"With great power, comes great responsibility.\" - Uncle Ben.'''\n",
        "sendEmail(sender, password, reciever, subject, body)"
      ]
    },
    {
      "cell_type": "markdown",
      "source": [
        "#### QR Code Generator (texts & URLs)"
      ],
      "metadata": {
        "id": "39saBdWi7_RJ"
      }
    },
    {
      "cell_type": "code",
      "source": [
        "#!pip install qrcode image"
      ],
      "metadata": {
        "id": "ck4g5zPT8L4F"
      },
      "execution_count": null,
      "outputs": []
    },
    {
      "cell_type": "code",
      "source": [
        "import qrcode\n",
        "from IPython.display import Image\n",
        "\n",
        "def generateQRcode(text):\n",
        "  '''Returns image of a QR code'''\n",
        "  qr = qrcode.QRCode(\n",
        "      version=1, \n",
        "      error_correction=qrcode.constants.ERROR_CORRECT_L,\n",
        "      box_size=6, border=1,\n",
        "  )\n",
        "  qr.add_data(text)\n",
        "  qr.make(fit=True)\n",
        "  img = qr.make_image(fill_color=\"black\", back_color=\"white\")\n",
        "  img.save('test.png')\n",
        "\n",
        "# Driver Code\n",
        "generateQRcode('https://www.youtube.com/watch?v=dQw4w9WgXcQ')\n",
        "Image(filename='test.png') "
      ],
      "metadata": {
        "colab": {
          "base_uri": "https://localhost:8080/",
          "height": 227
        },
        "id": "e15VNZ1n8zAM",
        "outputId": "c3a21b7a-af0c-4521-9b0e-8238a651c845"
      },
      "execution_count": 2,
      "outputs": [
        {
          "output_type": "execute_result",
          "data": {
            "image/png": "[encoded data removed]",
            "text/plain": [
              "<IPython.core.display.Image object>"
            ]
          },
          "metadata": {},
          "execution_count": 2
        }
      ]
    },
    {
      "cell_type": "markdown",
      "source": [
        "#### QR Code Generator (WIFI)"
      ],
      "metadata": {
        "id": "EaeuWA6gHoWV"
      }
    },
    {
      "cell_type": "code",
      "source": [
        "!pip install wifi-qrcode-generator"
      ],
      "metadata": {
        "id": "vG-MlIUnH-bd"
      },
      "execution_count": null,
      "outputs": []
    },
    {
      "cell_type": "code",
      "source": [
        "import wifi_qrcode_generator as qr\n",
        "qr.wifi_qrcode('WIFI name', False, 'WPA', 'WIFI password')"
      ],
      "metadata": {
        "id": "JMQnG4L8H5ca"
      },
      "execution_count": null,
      "outputs": []
    },
    {
      "cell_type": "markdown",
      "source": [
        "#### Site Connectivity Checker"
      ],
      "metadata": {
        "id": "_pqUQhGV3vkH"
      }
    },
    {
      "cell_type": "code",
      "source": [
        "def checkSiteConnectivity(url):\n",
        "  '''Returns the status code of any url'''\n",
        "  import urllib.request as request\n",
        "  response = request.urlopen(url)\n",
        "  return f\"The connection status code is: {response.getcode()}\"\n",
        "\n",
        "# Driver Code\n",
        "url = 'https://www.youtube.com/watch?v=dQw4w9WgXcQ&list=RDdQw4w9WgXcQ&start_radio=1'\n",
        "print(checkSiteConnectivity(url))"
      ],
      "metadata": {
        "colab": {
          "base_uri": "https://localhost:8080/"
        },
        "id": "DCux8vOU36Iv",
        "outputId": "0500af01-72e7-411d-f5d8-65d564ee9f03"
      },
      "execution_count": 5,
      "outputs": [
        {
          "output_type": "stream",
          "name": "stdout",
          "text": [
            "The connection status code is: 200\n"
          ]
        }
      ]
    },
    {
      "cell_type": "markdown",
      "source": [
        "#### English Dictionary"
      ],
      "metadata": {
        "id": "2AhZZrFND0pP"
      }
    },
    {
      "cell_type": "code",
      "source": [
        "!pip install PyDictionary"
      ],
      "metadata": {
        "id": "KJbZBcX6D3up"
      },
      "execution_count": null,
      "outputs": []
    },
    {
      "cell_type": "code",
      "source": [
        "def dictionary(word):\n",
        "  '''Returns the meaning of the word'''\n",
        "  from PyDictionary import PyDictionary\n",
        "  diction = PyDictionary()\n",
        "  result = diction.meaning(word)\n",
        "  for key, value in result.items():\n",
        "    for idx,item in enumerate(value):\n",
        "      print(f\"[{idx+1}] [{key}]: {item}\")\n",
        "\n",
        "# Driver Code\n",
        "word = input(\"Enter a word: \")\n",
        "print(dictionary(word))"
      ],
      "metadata": {
        "colab": {
          "base_uri": "https://localhost:8080/"
        },
        "id": "aVcP7lYuElW0",
        "outputId": "393e1aca-d301-486e-b154-1605b010142b"
      },
      "execution_count": 16,
      "outputs": [
        {
          "output_type": "stream",
          "name": "stdout",
          "text": [
            "Enter a word: Snake\n",
            "[1] [Noun]: limbless scaly elongate reptile; some are venomous\n",
            "[2] [Noun]: a deceitful or treacherous person\n",
            "[3] [Noun]: a tributary of the Columbia River that rises in Wyoming and flows westward; discovered in 1805 by the Lewis and Clark Expedition\n",
            "[4] [Noun]: a long faint constellation in the southern hemisphere near the equator stretching between Virgo and Cancer\n",
            "[5] [Noun]: something long, thin, and flexible that resembles a snake\n",
            "[6] [Noun]: a long flexible steel coil for dislodging stoppages in curved pipes\n",
            "[1] [Verb]: move smoothly and sinuously, like a snake\n",
            "[2] [Verb]: form a snake-like pattern\n",
            "[3] [Verb]: move along a winding path\n",
            "None\n"
          ]
        }
      ]
    }
  ]
}